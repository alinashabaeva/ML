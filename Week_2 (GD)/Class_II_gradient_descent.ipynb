{
  "nbformat": 4,
  "nbformat_minor": 0,
  "metadata": {
    "colab": {
      "name": "Class_II:gradient_descent.ipynb",
      "provenance": [],
      "collapsed_sections": []
    },
    "kernelspec": {
      "name": "python3",
      "display_name": "Python 3"
    },
    "language_info": {
      "name": "python"
    }
  },
  "cells": [
    {
      "cell_type": "markdown",
      "source": [
        "# Градиентное обучение на примере линейной регрессии\n",
        "\n",
        "## Исходные данные\n",
        "\n",
        "Для этого занятия нам понадобится файл `non_linear.csv` который хранится в [директории курса на Google Drive](https://drive.google.com/file/d/1prHJVpHn0N5y1BqLQQ2Hpx5OP8uKIXjT/view?usp=sharing)\n",
        "\n",
        "Скопируйте файл к себе в родительскую директорию **hse_nlp_2021**"
      ],
      "metadata": {
        "id": "Z0Wp3AQGfDxy"
      }
    },
    {
      "cell_type": "code",
      "source": [
        "import logging\n",
        "import os\n",
        "import shutil \n",
        "\n",
        "import numpy as np\n",
        "from google.colab import drive\n",
        "\n",
        "RANDOM_SEED = 42\n",
        "np.random.seed(RANDOM_SEED)  # гарантируем воспроизводимость\n",
        "\n",
        "logging.basicConfig(format='%(asctime)s : %(levelname)s : %(message)s', level=logging.INFO)\n",
        "logger = logging.getLogger(__name__)\n",
        "logger.info('Инициализировали логгер')\n",
        "\n",
        "ROOT_DIR = '/content/drive' \n",
        "drive.mount(ROOT_DIR)\n",
        "logger.info('Подключили диск')\n",
        "\n",
        "root_data_dir = os.path.join(ROOT_DIR, 'MyDrive', 'hse_nlp_2021')\n",
        "if not os.path.exists(root_data_dir):\n",
        "  raise RuntimeError('Отсутствует директория с данными')\n",
        "else:\n",
        "  logger.info('Содержимое директории %s: %s', root_data_dir, os.listdir(root_data_dir))"
      ],
      "metadata": {
        "colab": {
          "base_uri": "https://localhost:8080/"
        },
        "id": "2XhdLAtqfEKG",
        "outputId": "d0f8cc38-25e9-4e6e-c22c-3ae0d83f4d16"
      },
      "execution_count": 1,
      "outputs": [
        {
          "output_type": "stream",
          "name": "stderr",
          "text": [
            "2022-01-30 11:54:11,266 : INFO : Инициализировали логгер\n",
            "2022-01-30 11:54:32,371 : INFO : Подключили диск\n"
          ]
        },
        {
          "output_type": "stream",
          "name": "stdout",
          "text": [
            "Mounted at /content/drive\n"
          ]
        },
        {
          "output_type": "stream",
          "name": "stderr",
          "text": [
            "2022-01-30 11:54:32,692 : INFO : Содержимое директории /content/drive/MyDrive/hse_nlp_2021: ['events.csv', '1000k_memes_ocr.tar.gz', 'nyt-ingredients-snapshot-2015.csv', 'insurance.csv', 'Class_1.ipynb', 'corpora', 'sklearn_data', 'nltk_data', 'logs', 'nltk_data_old', 'Копия блокнота \"Part_I:ML_intro.ipynb\"', 'non_linear.csv', 'Untitled', 'Копия блокнота \"Part_II:gradient_descent.ipynb\"']\n"
          ]
        }
      ]
    },
    {
      "cell_type": "markdown",
      "source": [
        "Прочитаем `non_linear.csv`"
      ],
      "metadata": {
        "id": "_nNQLgELvYCw"
      }
    },
    {
      "cell_type": "code",
      "source": [
        "import os\n",
        "\n",
        "import numpy as np\n",
        "import pandas as pd\n",
        "\n",
        "raw_data_file = os.path.join(root_data_dir, 'non_linear.csv')\n",
        "data = pd.read_csv(raw_data_file, sep=',')\n",
        "data = data[(data.x_train > 1) & (data.x_train < 5)].copy()\n",
        "data.head()"
      ],
      "metadata": {
        "colab": {
          "base_uri": "https://localhost:8080/",
          "height": 204
        },
        "id": "Xo_PT1EFlosg",
        "outputId": "9494b3e2-1575-4863-8291-8c1ed3ce58fb"
      },
      "execution_count": 3,
      "outputs": [
        {
          "output_type": "execute_result",
          "data": {
            "text/html": [
              "\n",
              "  <div id=\"df-5b75c041-6ea2-4ccc-abe4-b4028a2e7e02\">\n",
              "    <div class=\"colab-df-container\">\n",
              "      <div>\n",
              "<style scoped>\n",
              "    .dataframe tbody tr th:only-of-type {\n",
              "        vertical-align: middle;\n",
              "    }\n",
              "\n",
              "    .dataframe tbody tr th {\n",
              "        vertical-align: top;\n",
              "    }\n",
              "\n",
              "    .dataframe thead th {\n",
              "        text-align: right;\n",
              "    }\n",
              "</style>\n",
              "<table border=\"1\" class=\"dataframe\">\n",
              "  <thead>\n",
              "    <tr style=\"text-align: right;\">\n",
              "      <th></th>\n",
              "      <th>x_train</th>\n",
              "      <th>y_train</th>\n",
              "    </tr>\n",
              "  </thead>\n",
              "  <tbody>\n",
              "    <tr>\n",
              "      <th>5</th>\n",
              "      <td>1.182421</td>\n",
              "      <td>1.860341</td>\n",
              "    </tr>\n",
              "    <tr>\n",
              "      <th>6</th>\n",
              "      <td>1.251605</td>\n",
              "      <td>1.878928</td>\n",
              "    </tr>\n",
              "    <tr>\n",
              "      <th>7</th>\n",
              "      <td>1.270474</td>\n",
              "      <td>2.430015</td>\n",
              "    </tr>\n",
              "    <tr>\n",
              "      <th>8</th>\n",
              "      <td>1.402553</td>\n",
              "      <td>2.327856</td>\n",
              "    </tr>\n",
              "    <tr>\n",
              "      <th>9</th>\n",
              "      <td>1.427711</td>\n",
              "      <td>2.203649</td>\n",
              "    </tr>\n",
              "  </tbody>\n",
              "</table>\n",
              "</div>\n",
              "      <button class=\"colab-df-convert\" onclick=\"convertToInteractive('df-5b75c041-6ea2-4ccc-abe4-b4028a2e7e02')\"\n",
              "              title=\"Convert this dataframe to an interactive table.\"\n",
              "              style=\"display:none;\">\n",
              "        \n",
              "  <svg xmlns=\"http://www.w3.org/2000/svg\" height=\"24px\"viewBox=\"0 0 24 24\"\n",
              "       width=\"24px\">\n",
              "    <path d=\"M0 0h24v24H0V0z\" fill=\"none\"/>\n",
              "    <path d=\"M18.56 5.44l.94 2.06.94-2.06 2.06-.94-2.06-.94-.94-2.06-.94 2.06-2.06.94zm-11 1L8.5 8.5l.94-2.06 2.06-.94-2.06-.94L8.5 2.5l-.94 2.06-2.06.94zm10 10l.94 2.06.94-2.06 2.06-.94-2.06-.94-.94-2.06-.94 2.06-2.06.94z\"/><path d=\"M17.41 7.96l-1.37-1.37c-.4-.4-.92-.59-1.43-.59-.52 0-1.04.2-1.43.59L10.3 9.45l-7.72 7.72c-.78.78-.78 2.05 0 2.83L4 21.41c.39.39.9.59 1.41.59.51 0 1.02-.2 1.41-.59l7.78-7.78 2.81-2.81c.8-.78.8-2.07 0-2.86zM5.41 20L4 18.59l7.72-7.72 1.47 1.35L5.41 20z\"/>\n",
              "  </svg>\n",
              "      </button>\n",
              "      \n",
              "  <style>\n",
              "    .colab-df-container {\n",
              "      display:flex;\n",
              "      flex-wrap:wrap;\n",
              "      gap: 12px;\n",
              "    }\n",
              "\n",
              "    .colab-df-convert {\n",
              "      background-color: #E8F0FE;\n",
              "      border: none;\n",
              "      border-radius: 50%;\n",
              "      cursor: pointer;\n",
              "      display: none;\n",
              "      fill: #1967D2;\n",
              "      height: 32px;\n",
              "      padding: 0 0 0 0;\n",
              "      width: 32px;\n",
              "    }\n",
              "\n",
              "    .colab-df-convert:hover {\n",
              "      background-color: #E2EBFA;\n",
              "      box-shadow: 0px 1px 2px rgba(60, 64, 67, 0.3), 0px 1px 3px 1px rgba(60, 64, 67, 0.15);\n",
              "      fill: #174EA6;\n",
              "    }\n",
              "\n",
              "    [theme=dark] .colab-df-convert {\n",
              "      background-color: #3B4455;\n",
              "      fill: #D2E3FC;\n",
              "    }\n",
              "\n",
              "    [theme=dark] .colab-df-convert:hover {\n",
              "      background-color: #434B5C;\n",
              "      box-shadow: 0px 1px 3px 1px rgba(0, 0, 0, 0.15);\n",
              "      filter: drop-shadow(0px 1px 2px rgba(0, 0, 0, 0.3));\n",
              "      fill: #FFFFFF;\n",
              "    }\n",
              "  </style>\n",
              "\n",
              "      <script>\n",
              "        const buttonEl =\n",
              "          document.querySelector('#df-5b75c041-6ea2-4ccc-abe4-b4028a2e7e02 button.colab-df-convert');\n",
              "        buttonEl.style.display =\n",
              "          google.colab.kernel.accessAllowed ? 'block' : 'none';\n",
              "\n",
              "        async function convertToInteractive(key) {\n",
              "          const element = document.querySelector('#df-5b75c041-6ea2-4ccc-abe4-b4028a2e7e02');\n",
              "          const dataTable =\n",
              "            await google.colab.kernel.invokeFunction('convertToInteractive',\n",
              "                                                     [key], {});\n",
              "          if (!dataTable) return;\n",
              "\n",
              "          const docLinkHtml = 'Like what you see? Visit the ' +\n",
              "            '<a target=\"_blank\" href=https://colab.research.google.com/notebooks/data_table.ipynb>data table notebook</a>'\n",
              "            + ' to learn more about interactive tables.';\n",
              "          element.innerHTML = '';\n",
              "          dataTable['output_type'] = 'display_data';\n",
              "          await google.colab.output.renderOutput(dataTable, element);\n",
              "          const docLink = document.createElement('div');\n",
              "          docLink.innerHTML = docLinkHtml;\n",
              "          element.appendChild(docLink);\n",
              "        }\n",
              "      </script>\n",
              "    </div>\n",
              "  </div>\n",
              "  "
            ],
            "text/plain": [
              "    x_train   y_train\n",
              "5  1.182421  1.860341\n",
              "6  1.251605  1.878928\n",
              "7  1.270474  2.430015\n",
              "8  1.402553  2.327856\n",
              "9  1.427711  2.203649"
            ]
          },
          "metadata": {},
          "execution_count": 3
        }
      ]
    },
    {
      "cell_type": "markdown",
      "source": [
        "Визуализируем данные"
      ],
      "metadata": {
        "id": "l7rxP1_Cvht7"
      }
    },
    {
      "cell_type": "code",
      "source": [
        "import matplotlib.pyplot as plt\n",
        "%matplotlib inline\n",
        "\n",
        "plt.scatter(\n",
        "    data.x_train, data.y_train,\n",
        "    s=40, c='g', marker='o', alpha=0.8\n",
        ")\n",
        "plt.show()"
      ],
      "metadata": {
        "colab": {
          "base_uri": "https://localhost:8080/",
          "height": 265
        },
        "id": "t1YNLriavgou",
        "outputId": "ac5a64a6-61a3-4148-d72c-c14cda1dccfb"
      },
      "execution_count": 12,
      "outputs": [
        {
          "output_type": "display_data",
          "data": {
            "image/png": "[encoded data removed]",
            "text/plain": [
              "<Figure size 432x288 with 1 Axes>"
            ]
          },
          "metadata": {
            "needs_background": "light"
          }
        }
      ]
    },
    {
      "cell_type": "markdown",
      "source": [
        "Создадим две отдельные переменные\n",
        "\n",
        "* $y$ для целевой переменной из столбца `y_train`. Удалим из исходного датафрейма с помощью `.drop()`\n",
        "* Все оставшиеся после удаления столбцы - это матрица объекты-признаки $X$\n",
        "\n",
        "Для матрицы объекты-признаки добавляем \"дефолтный\" признак из единиц."
      ],
      "metadata": {
        "id": "CoyqHUCEPeKT"
      }
    },
    {
      "cell_type": "code",
      "source": [
        "num_examlpes = data.shape[0]\n",
        "num_features = data.shape[0] - 1  # вычитаем единичку т.к. убрали столбец y\n",
        "X = np.zeros((num_examlpes, num_features + 1))  # размерность увеличилась на дефолтный столбец\n",
        "\n",
        "y = data.y_train # target (целевая переменная)\n",
        "X_df = data.drop('y_train', axis=1) # удаляем столбец y_train\n",
        "print(X.shape, type(X))"
      ],
      "metadata": {
        "id": "2t7ZXPhBPcnK",
        "colab": {
          "base_uri": "https://localhost:8080/"
        },
        "outputId": "c5c5ab0d-fd38-4cc3-eea5-183c9449a406"
      },
      "execution_count": 20,
      "outputs": [
        {
          "output_type": "stream",
          "name": "stdout",
          "text": [
            "(34, 34) <class 'numpy.ndarray'>\n"
          ]
        }
      ]
    },
    {
      "cell_type": "code",
      "source": [
        "type(X_df.values)"
      ],
      "metadata": {
        "colab": {
          "base_uri": "https://localhost:8080/"
        },
        "id": "0-rtdTvw5xNs",
        "outputId": "3a247f29-281e-4018-f288-362dc6950450"
      },
      "execution_count": 21,
      "outputs": [
        {
          "output_type": "execute_result",
          "data": {
            "text/plain": [
              "numpy.ndarray"
            ]
          },
          "metadata": {},
          "execution_count": 21
        }
      ]
    },
    {
      "cell_type": "code",
      "source": [
        "np.hstack(X_df.values) # hstack = складываем по горизонтали, vst = по вертикали"
      ],
      "metadata": {
        "colab": {
          "base_uri": "https://localhost:8080/"
        },
        "id": "LMeJ6xNk5-E7",
        "outputId": "3ba02389-db2d-44b0-ca14-5732a3fa18a5"
      },
      "execution_count": 22,
      "outputs": [
        {
          "output_type": "execute_result",
          "data": {
            "text/plain": [
              "array([1.18242126, 1.25160548, 1.27047391, 1.40255288, 1.42771078,\n",
              "       1.4717371 , 1.53463185, 1.55350027, 1.84281611, 2.01892141,\n",
              "       2.28936882, 2.64157941, 2.68560573, 2.79881628, 2.82397418,\n",
              "       2.91202682, 2.92460577, 3.27052689, 3.31455321, 3.52839535,\n",
              "       3.59757958, 3.76110592, 3.77368487, 3.91834279, 4.10702703,\n",
              "       4.10702703, 4.12589546, 4.1887902 , 4.33344812, 4.54100079,\n",
              "       4.57244817, 4.62276396, 4.64163239, 4.9372377 ])"
            ]
          },
          "metadata": {},
          "execution_count": 22
        }
      ]
    },
    {
      "cell_type": "code",
      "source": [
        "X = np.hstack([np.ones(num_examlpes).reshape(-1, 1), X_df.values])"
      ],
      "metadata": {
        "id": "guv5gz1l6tjn"
      },
      "execution_count": 25,
      "outputs": []
    },
    {
      "cell_type": "code",
      "source": [
        "X.shape"
      ],
      "metadata": {
        "colab": {
          "base_uri": "https://localhost:8080/"
        },
        "id": "ODywz5ZC7pf0",
        "outputId": "e5fbef1e-a0e1-403a-d3e8-168ad3184acc"
      },
      "execution_count": 27,
      "outputs": [
        {
          "output_type": "execute_result",
          "data": {
            "text/plain": [
              "(34, 2)"
            ]
          },
          "metadata": {},
          "execution_count": 27
        }
      ]
    },
    {
      "cell_type": "markdown",
      "source": [
        "Создаём отложенную выборку для валидации - см. предыдущий семинар"
      ],
      "metadata": {
        "id": "QA3w5X68b3tN"
      }
    },
    {
      "cell_type": "code",
      "source": [
        "from sklearn.model_selection import train_test_split\n",
        "\n",
        "X_train, X_valid, y_train, y_valid = train_test_split(X, y, test_size=0.2, random_state=RANDOM_SEED)"
      ],
      "metadata": {
        "id": "7X2_WHqrb3-D"
      },
      "execution_count": 28,
      "outputs": []
    },
    {
      "cell_type": "markdown",
      "source": [
        "### Аналитическое решение\n",
        "\n",
        "Для начала напишем код для аналитического вычисления коэффициентов линейной регрессии по формуле $\\overline{w} = \\left(X^TX\\right)^{-1}X^T\\overline{y}$\n"
      ],
      "metadata": {
        "id": "GZAjRY0ow4tt"
      }
    },
    {
      "cell_type": "code",
      "source": [
        "from numpy.linalg import inv # функция для обращения матрицы\n",
        "import numpy as np\n",
        "\n",
        "# вычисляем к-ты линейной регрессии\n",
        "w_analytic = np.zeros(num_features)\n",
        "#-------- ВАШ КОД ТУТ -------------------\n",
        "X_T_X = X_train.T.dot(X_train)\n",
        "inv_X_T_X = inv(X_T_X)\n",
        "inv_X_T_X_dot_X = inv_X_T_X.dot(X_train.T)\n",
        "w_analytic = inv_X_T_X_dot_X.dot(y_train.values.reshape(-1,1))\n",
        "\n",
        "# print(inv_X_T_X_dot_X.shape)\n",
        "\n",
        "\n",
        "\n",
        "#----------------------------------------\n",
        "\n",
        "print(f'Аналитически определённые коэффициенты {w_analytic}')"
      ],
      "metadata": {
        "colab": {
          "base_uri": "https://localhost:8080/"
        },
        "id": "JIRf6h0XmnbC",
        "outputId": "c5b9322c-0562-4985-e765-4f8eccff81dc"
      },
      "execution_count": 89,
      "outputs": [
        {
          "output_type": "stream",
          "name": "stdout",
          "text": [
            "Аналитически определённые коэффициенты [[ 2.92602711]\n",
            " [-0.66129539]]\n"
          ]
        }
      ]
    },
    {
      "cell_type": "code",
      "source": [
        "print(y.shape) # надо делать решейп, чтобы было 34 на 1"
      ],
      "metadata": {
        "colab": {
          "base_uri": "https://localhost:8080/"
        },
        "id": "jQCDb4pa9o_A",
        "outputId": "9fb15088-2df1-4b9b-f3ff-7a9446bd039f"
      },
      "execution_count": 87,
      "outputs": [
        {
          "output_type": "stream",
          "name": "stdout",
          "text": [
            "(34,)\n"
          ]
        }
      ]
    },
    {
      "cell_type": "code",
      "source": [
        "type(y.values.reshape(-1,1))"
      ],
      "metadata": {
        "colab": {
          "base_uri": "https://localhost:8080/"
        },
        "id": "zekBTLPC90Jm",
        "outputId": "c14b9ca0-3da0-4476-8b5c-e4fc416796ba"
      },
      "execution_count": 88,
      "outputs": [
        {
          "output_type": "execute_result",
          "data": {
            "text/plain": [
              "numpy.ndarray"
            ]
          },
          "metadata": {},
          "execution_count": 88
        }
      ]
    },
    {
      "cell_type": "markdown",
      "source": [
        "***ОТВЕТ: y = 2.93 + x * (-0.66)***"
      ],
      "metadata": {
        "id": "cWqbbvLQ-wYG"
      }
    },
    {
      "cell_type": "markdown",
      "source": [
        "Плучите коэффициенты из класса `LinearRegression` - мы уже делали так на прошлом семинаре"
      ],
      "metadata": {
        "id": "Wu0YN9WjZOQz"
      }
    },
    {
      "cell_type": "code",
      "source": [
        "from sklearn.linear_model import LinearRegression\n",
        "#-------- ВАШ КОД ТУТ -------------------\n",
        "\n",
        "lr_simple = LinearRegression(fit_intercept=False) #  надо доп добавить столбец из единиц\n",
        "lr_simple.fit(X, y)\n",
        "\n",
        "\n",
        "\n",
        "\n",
        "#----------------------------------------"
      ],
      "metadata": {
        "id": "X9FXb6uxZOg4",
        "colab": {
          "base_uri": "https://localhost:8080/"
        },
        "outputId": "973399f2-afcd-4851-fa34-a1cc37e3e82f"
      },
      "execution_count": 97,
      "outputs": [
        {
          "output_type": "execute_result",
          "data": {
            "text/plain": [
              "LinearRegression(fit_intercept=False)"
            ]
          },
          "metadata": {},
          "execution_count": 97
        }
      ]
    },
    {
      "cell_type": "code",
      "source": [
        "lr_simple.coef_"
      ],
      "metadata": {
        "colab": {
          "base_uri": "https://localhost:8080/"
        },
        "id": "pft1PoRBA2Oo",
        "outputId": "905d64be-4961-4cff-a353-c3011ce725b4"
      },
      "execution_count": 98,
      "outputs": [
        {
          "output_type": "execute_result",
          "data": {
            "text/plain": [
              "array([ 2.97817452, -0.67683741])"
            ]
          },
          "metadata": {},
          "execution_count": 98
        }
      ]
    },
    {
      "cell_type": "code",
      "source": [
        "help(lr_simple.fit)"
      ],
      "metadata": {
        "colab": {
          "base_uri": "https://localhost:8080/"
        },
        "id": "rcISJ6phBAvQ",
        "outputId": "2e83426f-e5c4-4b50-d280-bb94c09da2c0"
      },
      "execution_count": 51,
      "outputs": [
        {
          "output_type": "stream",
          "name": "stdout",
          "text": [
            "Help on method fit in module sklearn.linear_model._base:\n",
            "\n",
            "fit(X, y, sample_weight=None) method of sklearn.linear_model._base.LinearRegression instance\n",
            "    Fit linear model.\n",
            "    \n",
            "    Parameters\n",
            "    ----------\n",
            "    X : {array-like, sparse matrix} of shape (n_samples, n_features)\n",
            "        Training data.\n",
            "    \n",
            "    y : array-like of shape (n_samples,) or (n_samples, n_targets)\n",
            "        Target values. Will be cast to X's dtype if necessary.\n",
            "    \n",
            "    sample_weight : array-like of shape (n_samples,), default=None\n",
            "        Individual weights for each sample.\n",
            "    \n",
            "        .. versionadded:: 0.17\n",
            "           parameter *sample_weight* support to LinearRegression.\n",
            "    \n",
            "    Returns\n",
            "    -------\n",
            "    self : object\n",
            "        Fitted Estimator.\n",
            "\n"
          ]
        }
      ]
    },
    {
      "cell_type": "code",
      "source": [
        "# another option\n",
        "lr_simple_1 = LinearRegression(fit_intercept=True) #дефолтное значение\n",
        "lr_simple_1.fit(data.drop('y_train', axis=1), y)"
      ],
      "metadata": {
        "colab": {
          "base_uri": "https://localhost:8080/"
        },
        "id": "eKUQ5-y1CKq8",
        "outputId": "9958d341-46ed-4475-fcbc-27b5d0cbe54e"
      },
      "execution_count": 99,
      "outputs": [
        {
          "output_type": "execute_result",
          "data": {
            "text/plain": [
              "LinearRegression()"
            ]
          },
          "metadata": {},
          "execution_count": 99
        }
      ]
    },
    {
      "cell_type": "code",
      "source": [
        "lr_simple_1.coef_"
      ],
      "metadata": {
        "colab": {
          "base_uri": "https://localhost:8080/"
        },
        "id": "hVIol5ykCbuA",
        "outputId": "375167ee-1cef-4ec0-8b7b-6807109a870f"
      },
      "execution_count": 100,
      "outputs": [
        {
          "output_type": "execute_result",
          "data": {
            "text/plain": [
              "array([-0.67683741])"
            ]
          },
          "metadata": {},
          "execution_count": 100
        }
      ]
    },
    {
      "cell_type": "code",
      "source": [
        "lr_simple.intercept_, lr_simple.coef_"
      ],
      "metadata": {
        "colab": {
          "base_uri": "https://localhost:8080/"
        },
        "id": "w120-2zpCx7v",
        "outputId": "0cc45768-afe0-4c84-8ce3-20b3c00f122e"
      },
      "execution_count": 101,
      "outputs": [
        {
          "output_type": "execute_result",
          "data": {
            "text/plain": [
              "(0.0, array([ 2.97817452, -0.67683741]))"
            ]
          },
          "metadata": {},
          "execution_count": 101
        }
      ]
    },
    {
      "cell_type": "code",
      "source": [
        "lr_simple_1.intercept_, lr_simple_1.coef_"
      ],
      "metadata": {
        "colab": {
          "base_uri": "https://localhost:8080/"
        },
        "id": "Sx1Huot1C92B",
        "outputId": "fa0c51f0-e94b-41d7-b5cb-eacc0bedb4a0"
      },
      "execution_count": 102,
      "outputs": [
        {
          "output_type": "execute_result",
          "data": {
            "text/plain": [
              "(2.978174519094626, array([-0.67683741]))"
            ]
          },
          "metadata": {},
          "execution_count": 102
        }
      ]
    },
    {
      "cell_type": "markdown",
      "source": [
        "Сравните по евклидовому расстоянию коэффициенты из класса `LinearRegression` и полученные аналитическим способом"
      ],
      "metadata": {
        "id": "DL2lZQjPZJLu"
      }
    },
    {
      "cell_type": "code",
      "source": [
        "from numpy.linalg import inv, norm\n",
        "\n",
        "#-------- ВАШ КОД ТУТ -------------------\n",
        "\n",
        "\n",
        "\n",
        "\n",
        "\n",
        "\n",
        "#----------------------------------------"
      ],
      "metadata": {
        "id": "6LX9cURsvqsx"
      },
      "execution_count": null,
      "outputs": []
    },
    {
      "cell_type": "markdown",
      "source": [
        "Проверка на правильность - пишем юнит-тест!"
      ],
      "metadata": {
        "id": "6lYoS48UaNAi"
      }
    },
    {
      "cell_type": "code",
      "source": [
        "import unittest\n",
        "\n",
        "\n",
        "class TestNotebook(unittest.TestCase):\n",
        "    def test_task(self):\n",
        "        self.assertAlmostEqual(linalg_norm, 0.000000, places=6)\n",
        "\n",
        "unittest.main(argv=[''], verbosity=2, exit=False)"
      ],
      "metadata": {
        "id": "Ch2c16IbaEpg"
      },
      "execution_count": null,
      "outputs": []
    },
    {
      "cell_type": "markdown",
      "source": [
        "## Градиентный спуск из sklearn\n",
        "\n",
        "Используем готовую реализацию и функцию [.fit_partial()](https://scikit-learn.org/0.15/modules/scaling_strategies.html#incremental-learning)\n",
        "\n",
        "Для градиентного спуска мы используем готовый класс [sklearn.linear_model.SGDRegressor](https://scikit-learn.org/stable/modules/generated/sklearn.linear_model.SGDRegressor.html). Класс принимает следующие параметры\n",
        "\n",
        "* `learning_rate='constant'` используем самую простую модификацию спуска из нескольких возможных (см. доументацию)\n",
        "* `eta0=0.009` - шаг градиентного спуска, в формуле мы его обозначали буквой $\\alpha$\n",
        "* `fit_intercept=True` - чтобы обучить коэффициент при \"свободном члене\" $w_0$ линейной регрессии (см. лекцию)\n",
        "* `random_state=RANDOM_SEED` - этот параметр встречали ранее в этом модуле, он нужен для воспроизводимости вычислений.\n",
        "\n",
        "Псевдокод решения (нужно закодить самостоятельно, если возникнут сложности - подсмотреть в лекции):\n",
        "\n",
        "* инициализируем `w_current` рандомом, `weight_evolution` и `rmse_evolution` пустыми списками, и критерий остановки $\\varepsilon=0.0001$\n",
        "* задаём максимальное число шагов `800` и далее на каждом шаге\n",
        "  * вызываем `.partial_fit`\n",
        "  * `.coef_` содержит текущие веса - применяем [from scipy.spatial.distance.euclidean](https://docs.scipy.org/doc/scipy/reference/generated/scipy.spatial.distance.euclidean.html#scipy.spatial.distance.euclidean) и сверяем с критерием остановки. Если критерий не выполняется - обновляем rmse с помощью [sklearn.metrics.mean_squared_error](https://scikit-learn.org/stable/modules/generated/sklearn.metrics.mean_squared_error.html) на `y_valid` и предикт на `X_valid` и переназначаем `w_current` на атрибут `.coef_.copy()`\n",
        "\n",
        "Когда критерий остановки выполнился - визуализируем `rmse_evolution`, мы должны увидеть т.н. кривую обучения с помощью `.plot(range(step), rmse_evolution)`\n",
        "\n",
        "Новая библиотека в нашем арсенале  - scipy, изучите её документацию"
      ],
      "metadata": {
        "id": "sgAXuGzgcfcG"
      }
    },
    {
      "cell_type": "code",
      "source": [
        "y = data.y_train\n",
        "X = data.drop('y_train', axis=1)\n",
        "\n",
        "X_train, X_valid, y_train, y_valid = train_test_split(X, y, test_size=0.2, random_state=RANDOM_SEED)"
      ],
      "metadata": {
        "id": "vRXQidXyK19v"
      },
      "execution_count": 105,
      "outputs": []
    },
    {
      "cell_type": "code",
      "source": [
        "X_train #данные без единичек"
      ],
      "metadata": {
        "colab": {
          "base_uri": "https://localhost:8080/",
          "height": 886
        },
        "id": "qqXTmY54NZas",
        "outputId": "cd7f1238-e050-4f37-e033-60fa34c39997"
      },
      "execution_count": 107,
      "outputs": [
        {
          "output_type": "execute_result",
          "data": {
            "text/html": [
              "\n",
              "  <div id=\"df-0e20512f-3195-4363-938f-2b082de3b967\">\n",
              "    <div class=\"colab-df-container\">\n",
              "      <div>\n",
              "<style scoped>\n",
              "    .dataframe tbody tr th:only-of-type {\n",
              "        vertical-align: middle;\n",
              "    }\n",
              "\n",
              "    .dataframe tbody tr th {\n",
              "        vertical-align: top;\n",
              "    }\n",
              "\n",
              "    .dataframe thead th {\n",
              "        text-align: right;\n",
              "    }\n",
              "</style>\n",
              "<table border=\"1\" class=\"dataframe\">\n",
              "  <thead>\n",
              "    <tr style=\"text-align: right;\">\n",
              "      <th></th>\n",
              "      <th>x_train</th>\n",
              "    </tr>\n",
              "  </thead>\n",
              "  <tbody>\n",
              "    <tr>\n",
              "      <th>17</th>\n",
              "      <td>2.685606</td>\n",
              "    </tr>\n",
              "    <tr>\n",
              "      <th>37</th>\n",
              "      <td>4.641632</td>\n",
              "    </tr>\n",
              "    <tr>\n",
              "      <th>14</th>\n",
              "      <td>2.018921</td>\n",
              "    </tr>\n",
              "    <tr>\n",
              "      <th>5</th>\n",
              "      <td>1.182421</td>\n",
              "    </tr>\n",
              "    <tr>\n",
              "      <th>9</th>\n",
              "      <td>1.427711</td>\n",
              "    </tr>\n",
              "    <tr>\n",
              "      <th>21</th>\n",
              "      <td>2.924606</td>\n",
              "    </tr>\n",
              "    <tr>\n",
              "      <th>22</th>\n",
              "      <td>3.270527</td>\n",
              "    </tr>\n",
              "    <tr>\n",
              "      <th>10</th>\n",
              "      <td>1.471737</td>\n",
              "    </tr>\n",
              "    <tr>\n",
              "      <th>18</th>\n",
              "      <td>2.798816</td>\n",
              "    </tr>\n",
              "    <tr>\n",
              "      <th>16</th>\n",
              "      <td>2.641579</td>\n",
              "    </tr>\n",
              "    <tr>\n",
              "      <th>6</th>\n",
              "      <td>1.251605</td>\n",
              "    </tr>\n",
              "    <tr>\n",
              "      <th>7</th>\n",
              "      <td>1.270474</td>\n",
              "    </tr>\n",
              "    <tr>\n",
              "      <th>35</th>\n",
              "      <td>4.572448</td>\n",
              "    </tr>\n",
              "    <tr>\n",
              "      <th>8</th>\n",
              "      <td>1.402553</td>\n",
              "    </tr>\n",
              "    <tr>\n",
              "      <th>34</th>\n",
              "      <td>4.541001</td>\n",
              "    </tr>\n",
              "    <tr>\n",
              "      <th>28</th>\n",
              "      <td>3.918343</td>\n",
              "    </tr>\n",
              "    <tr>\n",
              "      <th>36</th>\n",
              "      <td>4.622764</td>\n",
              "    </tr>\n",
              "    <tr>\n",
              "      <th>27</th>\n",
              "      <td>3.773685</td>\n",
              "    </tr>\n",
              "    <tr>\n",
              "      <th>23</th>\n",
              "      <td>3.314553</td>\n",
              "    </tr>\n",
              "    <tr>\n",
              "      <th>30</th>\n",
              "      <td>4.107027</td>\n",
              "    </tr>\n",
              "    <tr>\n",
              "      <th>11</th>\n",
              "      <td>1.534632</td>\n",
              "    </tr>\n",
              "    <tr>\n",
              "      <th>25</th>\n",
              "      <td>3.597580</td>\n",
              "    </tr>\n",
              "    <tr>\n",
              "      <th>38</th>\n",
              "      <td>4.937238</td>\n",
              "    </tr>\n",
              "    <tr>\n",
              "      <th>12</th>\n",
              "      <td>1.553500</td>\n",
              "    </tr>\n",
              "    <tr>\n",
              "      <th>15</th>\n",
              "      <td>2.289369</td>\n",
              "    </tr>\n",
              "    <tr>\n",
              "      <th>19</th>\n",
              "      <td>2.823974</td>\n",
              "    </tr>\n",
              "    <tr>\n",
              "      <th>33</th>\n",
              "      <td>4.333448</td>\n",
              "    </tr>\n",
              "  </tbody>\n",
              "</table>\n",
              "</div>\n",
              "      <button class=\"colab-df-convert\" onclick=\"convertToInteractive('df-0e20512f-3195-4363-938f-2b082de3b967')\"\n",
              "              title=\"Convert this dataframe to an interactive table.\"\n",
              "              style=\"display:none;\">\n",
              "        \n",
              "  <svg xmlns=\"http://www.w3.org/2000/svg\" height=\"24px\"viewBox=\"0 0 24 24\"\n",
              "       width=\"24px\">\n",
              "    <path d=\"M0 0h24v24H0V0z\" fill=\"none\"/>\n",
              "    <path d=\"M18.56 5.44l.94 2.06.94-2.06 2.06-.94-2.06-.94-.94-2.06-.94 2.06-2.06.94zm-11 1L8.5 8.5l.94-2.06 2.06-.94-2.06-.94L8.5 2.5l-.94 2.06-2.06.94zm10 10l.94 2.06.94-2.06 2.06-.94-2.06-.94-.94-2.06-.94 2.06-2.06.94z\"/><path d=\"M17.41 7.96l-1.37-1.37c-.4-.4-.92-.59-1.43-.59-.52 0-1.04.2-1.43.59L10.3 9.45l-7.72 7.72c-.78.78-.78 2.05 0 2.83L4 21.41c.39.39.9.59 1.41.59.51 0 1.02-.2 1.41-.59l7.78-7.78 2.81-2.81c.8-.78.8-2.07 0-2.86zM5.41 20L4 18.59l7.72-7.72 1.47 1.35L5.41 20z\"/>\n",
              "  </svg>\n",
              "      </button>\n",
              "      \n",
              "  <style>\n",
              "    .colab-df-container {\n",
              "      display:flex;\n",
              "      flex-wrap:wrap;\n",
              "      gap: 12px;\n",
              "    }\n",
              "\n",
              "    .colab-df-convert {\n",
              "      background-color: #E8F0FE;\n",
              "      border: none;\n",
              "      border-radius: 50%;\n",
              "      cursor: pointer;\n",
              "      display: none;\n",
              "      fill: #1967D2;\n",
              "      height: 32px;\n",
              "      padding: 0 0 0 0;\n",
              "      width: 32px;\n",
              "    }\n",
              "\n",
              "    .colab-df-convert:hover {\n",
              "      background-color: #E2EBFA;\n",
              "      box-shadow: 0px 1px 2px rgba(60, 64, 67, 0.3), 0px 1px 3px 1px rgba(60, 64, 67, 0.15);\n",
              "      fill: #174EA6;\n",
              "    }\n",
              "\n",
              "    [theme=dark] .colab-df-convert {\n",
              "      background-color: #3B4455;\n",
              "      fill: #D2E3FC;\n",
              "    }\n",
              "\n",
              "    [theme=dark] .colab-df-convert:hover {\n",
              "      background-color: #434B5C;\n",
              "      box-shadow: 0px 1px 3px 1px rgba(0, 0, 0, 0.15);\n",
              "      filter: drop-shadow(0px 1px 2px rgba(0, 0, 0, 0.3));\n",
              "      fill: #FFFFFF;\n",
              "    }\n",
              "  </style>\n",
              "\n",
              "      <script>\n",
              "        const buttonEl =\n",
              "          document.querySelector('#df-0e20512f-3195-4363-938f-2b082de3b967 button.colab-df-convert');\n",
              "        buttonEl.style.display =\n",
              "          google.colab.kernel.accessAllowed ? 'block' : 'none';\n",
              "\n",
              "        async function convertToInteractive(key) {\n",
              "          const element = document.querySelector('#df-0e20512f-3195-4363-938f-2b082de3b967');\n",
              "          const dataTable =\n",
              "            await google.colab.kernel.invokeFunction('convertToInteractive',\n",
              "                                                     [key], {});\n",
              "          if (!dataTable) return;\n",
              "\n",
              "          const docLinkHtml = 'Like what you see? Visit the ' +\n",
              "            '<a target=\"_blank\" href=https://colab.research.google.com/notebooks/data_table.ipynb>data table notebook</a>'\n",
              "            + ' to learn more about interactive tables.';\n",
              "          element.innerHTML = '';\n",
              "          dataTable['output_type'] = 'display_data';\n",
              "          await google.colab.output.renderOutput(dataTable, element);\n",
              "          const docLink = document.createElement('div');\n",
              "          docLink.innerHTML = docLinkHtml;\n",
              "          element.appendChild(docLink);\n",
              "        }\n",
              "      </script>\n",
              "    </div>\n",
              "  </div>\n",
              "  "
            ],
            "text/plain": [
              "     x_train\n",
              "17  2.685606\n",
              "37  4.641632\n",
              "14  2.018921\n",
              "5   1.182421\n",
              "9   1.427711\n",
              "21  2.924606\n",
              "22  3.270527\n",
              "10  1.471737\n",
              "18  2.798816\n",
              "16  2.641579\n",
              "6   1.251605\n",
              "7   1.270474\n",
              "35  4.572448\n",
              "8   1.402553\n",
              "34  4.541001\n",
              "28  3.918343\n",
              "36  4.622764\n",
              "27  3.773685\n",
              "23  3.314553\n",
              "30  4.107027\n",
              "11  1.534632\n",
              "25  3.597580\n",
              "38  4.937238\n",
              "12  1.553500\n",
              "15  2.289369\n",
              "19  2.823974\n",
              "33  4.333448"
            ]
          },
          "metadata": {},
          "execution_count": 107
        }
      ]
    },
    {
      "cell_type": "code",
      "source": [
        "from numpy.linalg import inv, norm\n",
        "from sklearn.linear_model import SGDRegressor\n",
        "from scipy.spatial.distance import euclidean\n",
        "from sklearn.metrics import mean_squared_error\n",
        "#-------- ВАШ КОД ТУТ -------------------\n",
        "# .fit_partial() обновляет состояние класса, по кусочкам  обновляет веса и ждет след набора данных\n",
        "\n",
        "sgd_regressor = SGDRegressor(\n",
        "    learning_rate='constant',\n",
        "    eta0=0.009,\n",
        "    fit_intercept=True,\n",
        "    random_state=RANDOM_SEED\n",
        ")\n",
        "\n",
        "w_current = np.random.random(1)\n",
        "epsilon = 0.0001 \n",
        "weight_evolution, rmse_evolution = [], []\n",
        "MAX_STEPS = 800\n",
        "for step in range(MAX_STEPS):\n",
        "  # шаг градиентного спуска\n",
        "  sgd_regressor.partial_fit(X_train, y_train)\n",
        "  # эволюция (изменение) весов\n",
        "  weight_distance = euclidean(sgd_regressor.coef_, w_current)\n",
        "  if weight_distance < epsilon:\n",
        "    logger.info('Обучение закончилось')\n",
        "    break\n",
        "  # контроль на отложенной выборке\n",
        "  y_valid_predicted = sgd_regressor.predict(X_valid) \n",
        "  rmse_current = mean_squared_error(y_valid, y_valid_predicted) \n",
        "  weight_evolution.append(weight_distance)\n",
        "  rmse_evolution.append(rmse_current)\n",
        "  w_current = sgd_regressor.coef_.copy()\n",
        "  # Обновление весов\n",
        "  #logger.info('||w_{k+1} - w_k||=%.4f', weight_distance)\n",
        "  #raise RuntimeError\n",
        "\n",
        "\n",
        "\n",
        "#----------------------------------------\n",
        "logger.info('Количество пройденных итераций %d', len(rmse_evolution))\n",
        "plt.plot(list(range(len(rmse_evolution))), rmse_evolution)"
      ],
      "metadata": {
        "id": "WD_RpbQjcjdP",
        "colab": {
          "base_uri": "https://localhost:8080/",
          "height": 316
        },
        "outputId": "13ebe4fe-b1e3-4297-c22f-51d5f7388eeb"
      },
      "execution_count": 117,
      "outputs": [
        {
          "output_type": "stream",
          "name": "stderr",
          "text": [
            "2022-01-30 14:07:45,111 : INFO : Обучение закончилось\n",
            "2022-01-30 14:07:45,115 : INFO : Количество пройденных итераций 160\n"
          ]
        },
        {
          "output_type": "execute_result",
          "data": {
            "text/plain": [
              "[<matplotlib.lines.Line2D at 0x7f1fc091d790>]"
            ]
          },
          "metadata": {},
          "execution_count": 117
        },
        {
          "output_type": "display_data",
          "data": {
            "image/png": "[encoded data removed]",
            "text/plain": [
              "<Figure size 432x288 with 1 Axes>"
            ]
          },
          "metadata": {
            "needs_background": "light"
          }
        }
      ]
    },
    {
      "cell_type": "code",
      "source": [
        "plt.plot(list(range(len(weight_evolution))), weight_evolution)"
      ],
      "metadata": {
        "colab": {
          "base_uri": "https://localhost:8080/",
          "height": 285
        },
        "id": "ts8o3BazTyfO",
        "outputId": "59b8daed-c4b7-4be9-d780-84c9d28f4c91"
      },
      "execution_count": 118,
      "outputs": [
        {
          "output_type": "execute_result",
          "data": {
            "text/plain": [
              "[<matplotlib.lines.Line2D at 0x7f1fc088e990>]"
            ]
          },
          "metadata": {},
          "execution_count": 118
        },
        {
          "output_type": "display_data",
          "data": {
            "image/png": "[encoded data removed]",
            "text/plain": [
              "<Figure size 432x288 with 1 Axes>"
            ]
          },
          "metadata": {
            "needs_background": "light"
          }
        }
      ]
    },
    {
      "cell_type": "markdown",
      "source": [
        "Визуализируем решение на графике"
      ],
      "metadata": {
        "id": "H4FbEsKOe_hi"
      }
    },
    {
      "cell_type": "code",
      "source": [
        "x_linspace = np.linspace(data['x_train'].min(), data['x_train'].max(), num=100)\n",
        "\n",
        "y_linspace= sgd_regressor.predict(x_linspace.reshape(-1,1))\n",
        "\n",
        "plt.plot(x_linspace, y_linspace)\n",
        "plt.scatter(\n",
        "    data.x_train, data.y_train,\n",
        "    s=40, c='g', marker='o', alpha=0.8\n",
        ")\n",
        "\n",
        "plt.show()"
      ],
      "metadata": {
        "id": "Coy40Ffbe_2b",
        "colab": {
          "base_uri": "https://localhost:8080/",
          "height": 319
        },
        "outputId": "0dc72558-068d-4d3b-d646-5a57dddb04c4"
      },
      "execution_count": 123,
      "outputs": [
        {
          "output_type": "stream",
          "name": "stderr",
          "text": [
            "/usr/local/lib/python3.7/dist-packages/sklearn/base.py:451: UserWarning: X does not have valid feature names, but SGDRegressor was fitted with feature names\n",
            "  \"X does not have valid feature names, but\"\n"
          ]
        },
        {
          "output_type": "display_data",
          "data": {
            "image/png": "[encoded data removed]",
            "text/plain": [
              "<Figure size 432x288 with 1 Axes>"
            ]
          },
          "metadata": {
            "needs_background": "light"
          }
        }
      ]
    },
    {
      "cell_type": "code",
      "source": [
        "x_linspace = np.linspace(data['x_train'].min(), data['x_train'].max(), num=15)\n",
        "\n",
        "y_linspace= sgd_regressor.predict(x_linspace.reshape(-1,1))\n",
        "\n",
        "plt.scatter(\n",
        "    x_linspace, y_linspace,\n",
        "    s=40, c='r', marker='o', alpha=0.8\n",
        ")\n",
        "plt.scatter(\n",
        "    data.x_train, data.y_train,\n",
        "    s=40, c='g', marker='o', alpha=0.8\n",
        ")\n",
        "\n",
        "plt.show()"
      ],
      "metadata": {
        "colab": {
          "base_uri": "https://localhost:8080/",
          "height": 319
        },
        "id": "uBaKlTX1U_oc",
        "outputId": "cf64f44d-51cc-4b54-cc96-87f0262e3d35"
      },
      "execution_count": 124,
      "outputs": [
        {
          "output_type": "stream",
          "name": "stderr",
          "text": [
            "/usr/local/lib/python3.7/dist-packages/sklearn/base.py:451: UserWarning: X does not have valid feature names, but SGDRegressor was fitted with feature names\n",
            "  \"X does not have valid feature names, but\"\n"
          ]
        },
        {
          "output_type": "display_data",
          "data": {
            "image/png": "[encoded data removed]",
            "text/plain": [
              "<Figure size 432x288 with 1 Axes>"
            ]
          },
          "metadata": {
            "needs_background": "light"
          }
        }
      ]
    },
    {
      "cell_type": "markdown",
      "source": [
        "Готово! Мы получили решение задачи линейной регрессии, обучив параметры линейной регресии небольшими \"шажками\". Мы не использовали сложных матричных вычислений - тем не менее получили линию регрессии, которая лежит в середине облака точек. Когда стоит использовать градиентный спуск в реальных задачах?\n",
        "\n",
        "* когда данных очень много - в этом случае компьютер может не справится с перемножением матриц\n",
        "* когда нужно контролировать точность обучения - остановить итерации можно в любой момент (не дожидаясь, пока дойдем до \"идеальных\" значений.\n",
        "\n",
        "Когда не стоит применять градиентный спуск? Когда данных мало - в этом случае лучше воспользоваться точным решением"
      ],
      "metadata": {
        "id": "5qohl7GmfcLD"
      }
    },
    {
      "cell_type": "markdown",
      "source": [
        "**Практическое задание** очевидно, что чем больше шаг градиентного спуска (параметр *eta0* класса *SGDRegressor*), тем быстрее мы придём к оптимальным значениям. Используя под выше, поиграйтесь с параметром *eta0* и добейтесь , чтобы градиентный спуск закончился быстрее, чем за 200 шагов.\n",
        "\n",
        "Сколько шагов у вас получилось? Какое качество *RMSE* у Вашего решения на валидационной выборке"
      ],
      "metadata": {
        "id": "UApF2WKHeq3z"
      }
    },
    {
      "cell_type": "code",
      "source": [
        "#-------- ВАШ КОД ТУТ -------------------\n",
        "sgd_regressor = SGDRegressor(\n",
        "    learning_rate='constant',\n",
        "    eta0=0.007, # чем больше этот параметр, тем быстрее. Это самое подходящая цифра, чтобы ГД закончился примерно за 200 шагов.\n",
        "    fit_intercept=True,\n",
        "    random_state=RANDOM_SEED\n",
        ")\n",
        "\n",
        "w_current = np.random.random(1)\n",
        "epsilon = 0.0001 \n",
        "weight_evolution, rmse_evolution = [], []\n",
        "MAX_STEPS = 800\n",
        "for step in range(MAX_STEPS):\n",
        "  # шаг градиентного спуска\n",
        "  sgd_regressor.partial_fit(X_train, y_train)\n",
        "  # эволюция (изменение) весов\n",
        "  weight_distance = euclidean(sgd_regressor.coef_, w_current)\n",
        "  if weight_distance < epsilon:\n",
        "    logger.info('Обучение закончилось')\n",
        "    break\n",
        "  # контроль на отложенной выборке\n",
        "  y_valid_predicted = sgd_regressor.predict(X_valid) \n",
        "  rmse_current = mean_squared_error(y_valid, y_valid_predicted) \n",
        "  weight_evolution.append(weight_distance)\n",
        "  rmse_evolution.append(rmse_current)\n",
        "  w_current = sgd_regressor.coef_.copy()\n",
        "\n",
        "#----------------------------------------\n",
        "logger.info('Количество пройденных итераций %d', len(rmse_evolution))\n",
        "plt.plot(list(range(len(rmse_evolution))), rmse_evolution)\n",
        "\n",
        "\n",
        "\n",
        "\n",
        "\n",
        "#----------------------------------------"
      ],
      "metadata": {
        "id": "3X9HVuNUerDM",
        "colab": {
          "base_uri": "https://localhost:8080/",
          "height": 316
        },
        "outputId": "78357a2e-cf5d-4898-cdea-a27fadc61a3b"
      },
      "execution_count": 140,
      "outputs": [
        {
          "output_type": "stream",
          "name": "stderr",
          "text": [
            "2022-01-30 14:23:00,355 : INFO : Обучение закончилось\n",
            "2022-01-30 14:23:00,357 : INFO : Количество пройденных итераций 198\n"
          ]
        },
        {
          "output_type": "execute_result",
          "data": {
            "text/plain": [
              "[<matplotlib.lines.Line2D at 0x7f1fc046cad0>]"
            ]
          },
          "metadata": {},
          "execution_count": 140
        },
        {
          "output_type": "display_data",
          "data": {
            "image/png": "[encoded data removed]",
            "text/plain": [
              "<Figure size 432x288 with 1 Axes>"
            ]
          },
          "metadata": {
            "needs_background": "light"
          }
        }
      ]
    },
    {
      "cell_type": "markdown",
      "source": [
        "## Реализация GD на python\n",
        "\n",
        "Формулы см. в лекции"
      ],
      "metadata": {
        "id": "tNrWHNTUe8Kt"
      }
    },
    {
      "cell_type": "code",
      "source": [
        "import numpy as np\n",
        "\n",
        "def gradient(X, y, w, alpha=0) -> np.array:\n",
        "    \"\"\"Вычисляем градиент в точке\"\"\"\n",
        "    # количество обучающих примеров в выборке\n",
        "    n = X.shape[0]\n",
        "    # считаем прогноз\n",
        "    y_hat = X.dot(w.T)\n",
        "    # вычисляем ошибку прогноза\n",
        "    error = y - y_hat\n",
        "    # дальше pointwise перемножение - умножаем каждую из координат на ошибку\n",
        "    pointwise_errors = np.multiply(X, error) + X\n",
        "    # вычисляем градиент и ошибку\n",
        "    grad = pointwise_errors.sum(axis=0)*(-1.0)*2.0 / n\n",
        "    return grad, error"
      ],
      "metadata": {
        "id": "xHX2RxBNe7Ei"
      },
      "execution_count": 125,
      "outputs": []
    },
    {
      "cell_type": "markdown",
      "source": [
        "Делаем шаг градиентного спуска"
      ],
      "metadata": {
        "id": "pd_ZB5TBjwhg"
      }
    },
    {
      "cell_type": "code",
      "source": [
        "from scipy.spatial import distance\n",
        "\n",
        "def eval_w_next(X, y, eta, w_current):\n",
        "    \"\"\"Делаем шаг градиентного спуска\"\"\"\n",
        "    # вычисляем градиент\n",
        "    grad, error = gradient(X, y, w_current)\n",
        "    # делаем шаг градиентного спуска\n",
        "    w_next = w_current - eta*grad\n",
        "    # проверяем условие сходимости\n",
        "    weight_evolution = distance.euclidean(w_current, w_next)\n",
        "    return (w_next, weight_evolution, grad)"
      ],
      "metadata": {
        "id": "IM40X0QPe1Yl"
      },
      "execution_count": 126,
      "outputs": []
    },
    {
      "cell_type": "markdown",
      "source": [
        "Повторяем шаги (1,2) до сходимости"
      ],
      "metadata": {
        "id": "W6-FWVBVlBZ4"
      }
    },
    {
      "cell_type": "code",
      "source": [
        "def gradient_descent(X: np.array, y: np.array, eta=0.01, epsilon=0.001) -> np.array:\n",
        "    m = X.shape[1] # количество фичей\n",
        "    # инициализируем рандомом веса\n",
        "    w = np.random.random(m).reshape(1, -1)\n",
        "    w_next, weight_evolution, grad = eval_w_next(X, y, eta, w)\n",
        "    step = 0\n",
        "    # повторяем до сходимости вектора весов\n",
        "    while weight_evolution > epsilon:\n",
        "        w = w_next\n",
        "        w_next, weight_evolution, grad = eval_w_next(X, y, eta, w)\n",
        "        step += 1\n",
        "        if step % 100 ==0:\n",
        "            logger.info(\"step %s |w-w_next|=%.5f, grad=%s\", step, weight_evolution, grad)\n",
        "    return w"
      ],
      "metadata": {
        "id": "vxuc9S74lB8_"
      },
      "execution_count": 128,
      "outputs": []
    },
    {
      "cell_type": "markdown",
      "source": [
        "Запускаем обучение"
      ],
      "metadata": {
        "id": "4KC41Nu-lRQM"
      }
    },
    {
      "cell_type": "code",
      "source": [
        "# трансформируем плоский массив X в вектор-столбец\n",
        "X = data['x_train'].values.reshape(-1, 1)\n",
        "n = X.shape[0]\n",
        "# добавляем тривиальный признак w_0, столбец из единиц. См. прошлый урок, почему так\n",
        "X = np.hstack([\n",
        "    np.ones(n).reshape(-1,1),\n",
        "    X\n",
        "])\n",
        "w = gradient_descent(\n",
        "    X,\n",
        "    data['y_train'].values.reshape(-1, 1),\n",
        "    eta=0.008\n",
        ")"
      ],
      "metadata": {
        "id": "06DCGLtBlRce",
        "colab": {
          "base_uri": "https://localhost:8080/"
        },
        "outputId": "702d7b33-7785-48c5-bb5a-67faef9b0cfa"
      },
      "execution_count": 129,
      "outputs": [
        {
          "output_type": "stream",
          "name": "stderr",
          "text": [
            "2022-01-30 14:15:28,634 : INFO : step 100 |w-w_next|=0.00590, grad=[-0.70865209  0.2047155 ]\n",
            "2022-01-30 14:15:28,641 : INFO : step 200 |w-w_next|=0.00486, grad=[-0.58316809  0.16846566]\n",
            "2022-01-30 14:15:28,648 : INFO : step 300 |w-w_next|=0.00400, grad=[-0.47990407  0.13863474]\n",
            "2022-01-30 14:15:28,654 : INFO : step 400 |w-w_next|=0.00329, grad=[-0.39492544  0.11408611]\n",
            "2022-01-30 14:15:28,663 : INFO : step 500 |w-w_next|=0.00271, grad=[-0.32499434  0.0938844 ]\n",
            "2022-01-30 14:15:28,672 : INFO : step 600 |w-w_next|=0.00223, grad=[-0.26744623  0.0772599 ]\n",
            "2022-01-30 14:15:28,682 : INFO : step 700 |w-w_next|=0.00183, grad=[-0.2200884   0.06357916]\n",
            "2022-01-30 14:15:28,691 : INFO : step 800 |w-w_next|=0.00151, grad=[-0.18111643  0.05232093]\n",
            "2022-01-30 14:15:28,701 : INFO : step 900 |w-w_next|=0.00124, grad=[-0.14904538  0.04305625]\n",
            "2022-01-30 14:15:28,708 : INFO : step 1000 |w-w_next|=0.00102, grad=[-0.12265329  0.0354321 ]\n"
          ]
        }
      ]
    },
    {
      "cell_type": "markdown",
      "source": [
        "У нас произошло несколько сотен итераций, на каждой итерации мы:\n",
        "* вычисляем вектор весов\n",
        "* смотрим расстояние между новым вектором весов и векторов весов с предыдущего шага\n",
        "* если изменения в векторе весов небольшие (скажем, четвёртый знак поcле запятой) - останавливаем итерации\n",
        "\n",
        "Когда вектор перестаёт меняться - говорят, что алгоритм \"сошёлся\" (имеется в виду сходимость к оптимальной точке) - это значит, что итерации можно останавливать."
      ],
      "metadata": {
        "id": "102VDJxOlaSn"
      }
    },
    {
      "cell_type": "code",
      "source": [
        "support = np.linspace(X.min(), X.max(), num=100)\n",
        "# делаем предикт - считаем предсказания модели в каждой точке обучающей выборке в виде y=X*w\n",
        "y_hat = np.hstack([\n",
        "    np.ones(support.size).reshape(-1, 1),\n",
        "    support.reshape(-1, 1)\n",
        "]).dot(w.T)"
      ],
      "metadata": {
        "id": "HWCXrJmila2v"
      },
      "execution_count": 130,
      "outputs": []
    },
    {
      "cell_type": "markdown",
      "source": [
        "визуализируем результаты"
      ],
      "metadata": {
        "id": "PghJGwPEllda"
      }
    },
    {
      "cell_type": "code",
      "source": [
        "# строим график\n",
        "plt.plot(support, y_hat, 'b--', alpha=0.5, label='manifold')\n",
        "plt.scatter(data['x_train'], data['y_train'], 40, 'g', 'o', alpha=0.8, label='data')\n",
        "plt.show()"
      ],
      "metadata": {
        "id": "c_bTZVbBld8D",
        "colab": {
          "base_uri": "https://localhost:8080/",
          "height": 265
        },
        "outputId": "0c9e4ee0-9b77-4c81-a1f8-408dbab014b2"
      },
      "execution_count": 131,
      "outputs": [
        {
          "output_type": "display_data",
          "data": {
            "image/png": "[encoded data removed]",
            "text/plain": [
              "<Figure size 432x288 with 1 Axes>"
            ]
          },
          "metadata": {
            "needs_background": "light"
          }
        }
      ]
    }
  ]
}