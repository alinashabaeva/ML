{
 "cells": [
  {
   "cell_type": "markdown",
   "metadata": {
    "id": "eU-2v7X9Riq9"
   },
   "source": [
    "# Понятие переобучения\n",
    "\n",
    "## Исходные данные\n",
    "\n",
    "Для этого занятия нам понадобится файл `non_linear.csv` который хранится в [директории курса на Google Drive](https://drive.google.com/file/d/1prHJVpHn0N5y1BqLQQ2Hpx5OP8uKIXjT/view?usp=sharing)\n",
    "\n",
    "Скопируйте файл к себе в родительскую директорию **hse_nlp_2021**"
   ]
  },
  {
   "cell_type": "code",
   "execution_count": 68,
   "metadata": {
    "colab": {
     "base_uri": "https://localhost:8080/"
    },
    "id": "nTMvCFCqRi3y",
    "outputId": "14704db6-c034-4dd7-d96c-e63540da221d"
   },
   "outputs": [
    {
     "name": "stderr",
     "output_type": "stream",
     "text": [
      "2022-02-07 00:12:57,012 : INFO : Инициализировали логгер\n"
     ]
    }
   ],
   "source": [
    "import logging\n",
    "import os\n",
    "import shutil \n",
    "\n",
    "import numpy as np\n",
    "# from google.colab import drive \n",
    "\n",
    "RANDOM_SEED = 42\n",
    "np.random.seed(RANDOM_SEED)  # гарантируем воспроизводимость\n",
    "\n",
    "logging.basicConfig(format='%(asctime)s : %(levelname)s : %(message)s', level=logging.INFO)\n",
    "logger = logging.getLogger(__name__)\n",
    "logger.info('Инициализировали логгер')\n",
    "\n",
    "# ROOT_DIR = '/content/drive' \n",
    "# drive.mount(ROOT_DIR) \n",
    "# logger.info('Подключили диск')\n",
    "\n",
    "# root_data_dir = os.path.join(ROOT_DIR, 'MyDrive', 'hse_nlp_2021') \n",
    "# if not os.path.exists(root_data_dir): \n",
    "#   raise RuntimeError('Отсутствует директория с данными') \n",
    "# else:\n",
    "#   logger.info('Содержимое директории %s: %s', root_data_dir, os.listdir(root_data_dir))"
   ]
  },
  {
   "cell_type": "markdown",
   "metadata": {
    "id": "d5u1y-jRSYjA"
   },
   "source": [
    "# I Переобучение\n",
    "\n",
    "## Как детектировать переобучение\n",
    "\n",
    "Переобучение - это явление, когда модель \"слишком сильно\" подгоняется под обучающую выборку и плохо справляется с новыми данными - проведём эксперимент и увидим на примере линейной регрессии, как переобучаются модели\n",
    "\n",
    "Начнем с исходных данных - их мы уже исследовали на прошлом семинаре"
   ]
  },
  {
   "cell_type": "code",
   "execution_count": 69,
   "metadata": {
    "colab": {
     "base_uri": "https://localhost:8080/",
     "height": 206
    },
    "id": "pDGE4-pSWyP0",
    "outputId": "0b4ceb14-4971-4543-f0c4-bdf63acbffdc"
   },
   "outputs": [
    {
     "data": {
      "text/html": [
       "<div>\n",
       "<style scoped>\n",
       "    .dataframe tbody tr th:only-of-type {\n",
       "        vertical-align: middle;\n",
       "    }\n",
       "\n",
       "    .dataframe tbody tr th {\n",
       "        vertical-align: top;\n",
       "    }\n",
       "\n",
       "    .dataframe thead th {\n",
       "        text-align: right;\n",
       "    }\n",
       "</style>\n",
       "<table border=\"1\" class=\"dataframe\">\n",
       "  <thead>\n",
       "    <tr style=\"text-align: right;\">\n",
       "      <th></th>\n",
       "      <th>x_train</th>\n",
       "      <th>y_train</th>\n",
       "    </tr>\n",
       "  </thead>\n",
       "  <tbody>\n",
       "    <tr>\n",
       "      <th>0</th>\n",
       "      <td>0.138368</td>\n",
       "      <td>0.838812</td>\n",
       "    </tr>\n",
       "    <tr>\n",
       "      <th>1</th>\n",
       "      <td>0.157237</td>\n",
       "      <td>0.889313</td>\n",
       "    </tr>\n",
       "    <tr>\n",
       "      <th>2</th>\n",
       "      <td>0.188684</td>\n",
       "      <td>1.430040</td>\n",
       "    </tr>\n",
       "    <tr>\n",
       "      <th>3</th>\n",
       "      <td>0.685553</td>\n",
       "      <td>1.717309</td>\n",
       "    </tr>\n",
       "    <tr>\n",
       "      <th>4</th>\n",
       "      <td>0.874237</td>\n",
       "      <td>2.032588</td>\n",
       "    </tr>\n",
       "  </tbody>\n",
       "</table>\n",
       "</div>"
      ],
      "text/plain": [
       "    x_train   y_train\n",
       "0  0.138368  0.838812\n",
       "1  0.157237  0.889313\n",
       "2  0.188684  1.430040\n",
       "3  0.685553  1.717309\n",
       "4  0.874237  2.032588"
      ]
     },
     "execution_count": 69,
     "metadata": {},
     "output_type": "execute_result"
    }
   ],
   "source": [
    "import os\n",
    "\n",
    "import numpy as np\n",
    "import pandas as pd\n",
    "\n",
    "# raw_data_file = os.path.join(root_data_dir, 'non_linear.csv')\n",
    "raw_data_file = open('non_linear.csv')\n",
    "data = pd.read_csv(raw_data_file, sep=',')\n",
    "\n",
    "data.head()"
   ]
  },
  {
   "cell_type": "markdown",
   "metadata": {
    "id": "ix6jlO5AO0Xm"
   },
   "source": [
    "Визуализируем с помощью scatter"
   ]
  },
  {
   "cell_type": "code",
   "execution_count": 70,
   "metadata": {
    "colab": {
     "base_uri": "https://localhost:8080/",
     "height": 265
    },
    "id": "4j3Xu0ctO0k_",
    "outputId": "43911f0f-4434-4d3c-8aac-708e42b3966f"
   },
   "outputs": [
    {
     "data": {
      "image/png": "[encoded data removed]",
      "text/plain": [
       "<Figure size 432x288 with 1 Axes>"
      ]
     },
     "metadata": {
      "needs_background": "light"
     },
     "output_type": "display_data"
    }
   ],
   "source": [
    "import matplotlib.pyplot as plt\n",
    "%matplotlib inline\n",
    "# основной график\n",
    "plt.scatter(data.x_train, data.y_train, 40, 'g', 'o', alpha=0.8)\n",
    "plt.show()"
   ]
  },
  {
   "cell_type": "markdown",
   "metadata": {
    "id": "Y40lGnrYW4um"
   },
   "source": [
    "Цель - научиться определять переобучение.\n",
    "\n",
    "Тренироваться будем на полиномиальной регрессии. То есть регрессия-то будет линейная, но нужно будет сгенерить для каждого x признаки $x^2,\\cdots, x^n$ и добавить в матрицу объекты-признаки $X$ несколько столбцов - степени фичей (например, в случае обучения регрессии на единственной фиче модуль приобретёт вид $y = w_0 + w_1x +w_2x^2 + \\ldots + w_nx^n$).\n",
    "\n",
    "То есть пространство функций у нас линейное, увеличивается количество только коэффициентов $w$\n",
    "\n",
    "$$\n",
    "\\forall x_i: h(x) =  \\sum_{j=1}^{n}w_jx_i^j\n",
    "$$\n",
    "\n",
    "Матрица, состоящая из степеней $x$ называется [матрицей Вандермондта](https://en.wikipedia.org/wiki/Vandermonde_matrix), реализация этой матрицы есть в `numpy`. "
   ]
  },
  {
   "cell_type": "code",
   "execution_count": 8,
   "metadata": {
    "colab": {
     "base_uri": "https://localhost:8080/"
    },
    "id": "-DbMXxpuWzwU",
    "outputId": "6fb6ffdc-b01d-445a-9d8a-ac889cab510b"
   },
   "outputs": [
    {
     "data": {
      "text/plain": [
       "array([[0.13836845, 0.01914583, 0.00264918, 0.00036656],\n",
       "       [0.15723687, 0.02472343, 0.00388744, 0.00061125],\n",
       "       [0.18868424, 0.03560174, 0.00671749, 0.00126748]])"
      ]
     },
     "execution_count": 8,
     "metadata": {},
     "output_type": "execute_result"
    }
   ],
   "source": [
    "def generate_powers(x, N):\n",
    "  return np.vander(x, N=N, increasing=True)[:,1:]\n",
    "\n",
    "generate_powers(data.head(3).x_train.values, N=5)"
   ]
  },
  {
   "cell_type": "markdown",
   "metadata": {
    "id": "lizN8pNW51Ln"
   },
   "source": [
    "Обучаем модель на валидации, проверяем на контроле для степени полинома `degree=8` (думаю, степень полинома можно назвать гиперпараметром). Для разбиения мы воспользуемся функцией [train_test_split](https://scikit-learn.org/stable/modules/generated/sklearn.model_selection.train_test_split.html):\n",
    "\n",
    "* $X$ и $y$ - массивы, которые хотим расщепить на валидацию и контроль\n",
    "* *test_size* принимает значения от нуля до единицы и означает долю объектов, которые нужно отложить на валидацию (обычно выбирают значения между $0.15$ и $0.35$)\n",
    "* *random_state* - любое целое число, если задано то разбиение не будет меняться в разных запусках программы (нужно для воспроизводимости). Мы используем константу `RANDOM_SEED` \n",
    "\n",
    "Обучать будем линейную регрессию из класса [sklearn.linear_model.Ridge](https://scikit-learn.org/stable/modules/generated/sklearn.linear_model.Ridge.html). Вообще-то Ridge оптимизирует немного другой функционал, не совсем как в линейной регрерсии:\n",
    "\n",
    "$$\n",
    "\\|Y - Xw\\|^2_2 + \\alpha \\cdot \\|w\\|^2_2\n",
    "$$\n",
    "\n",
    "Поэтому будем обучать при $\\alpha = 0$ чтобы получилась обычная линейная регрессия"
   ]
  },
  {
   "cell_type": "markdown",
   "metadata": {
    "id": "OUUmv55FScq9"
   },
   "source": [
    "Норма весов рассчитывается\n",
    "\n",
    "$$\n",
    "\\|w\\|^2_2 = w_0^2+w_1^2 + \\ldots+w_n^2\n",
    "$$\n",
    "\n",
    "Для вычисления такой нормы можно использовать [функцию norm из numpy](https://docs.scipy.org/doc/numpy-1.15.0/reference/generated/numpy.linalg.norm.html)"
   ]
  },
  {
   "cell_type": "code",
   "execution_count": 71,
   "metadata": {
    "colab": {
     "base_uri": "https://localhost:8080/"
    },
    "id": "irZ_ySg_Zbds",
    "outputId": "fc2b599d-028b-4427-8224-36b20cfa3bd4"
   },
   "outputs": [
    {
     "name": "stdout",
     "output_type": "stream",
     "text": [
      "Качество на обучении: 0.072\n",
      "Качество на валидации: 0.040\n"
     ]
    }
   ],
   "source": [
    "from sklearn.metrics import mean_squared_error\n",
    "from sklearn.linear_model import Ridge, Lasso  # импортируем новые для на модели\n",
    "from sklearn.model_selection import train_test_split\n",
    "\n",
    "degree = 8\n",
    "\n",
    "# извлекаем признаки\n",
    "X = generate_powers(data.x_train.values, N=degree)\n",
    "y = data.y_train.values\n",
    "\n",
    "# разделяем на обучающую и валидационную выборку\n",
    "X_train, X_valid, y_train, y_valid = train_test_split(X, y, test_size=0.2, random_state=RANDOM_SEED)\n",
    "\n",
    "# обучаем модель\n",
    "model = Ridge(alpha=0).fit(X_train, y_train)\n",
    "\n",
    "# получаем предсказания\n",
    "y_pred = model.predict(X_valid)\n",
    "y_pred_train = model.predict(X_train)\n",
    "\n",
    "print(\"Качество на обучении: %.3f\" % mean_squared_error(y_train, y_pred_train))\n",
    "print(\"Качество на валидации: %.3f\" % mean_squared_error(y_valid, y_pred))"
   ]
  },
  {
   "cell_type": "markdown",
   "metadata": {
    "id": "_d8oDTfKEoVv"
   },
   "source": [
    "Теперь обучим полиномиальную регрессию для степени `degree = 12` c параметром регуляризации `alpha=0`"
   ]
  },
  {
   "cell_type": "code",
   "execution_count": 10,
   "metadata": {
    "colab": {
     "base_uri": "https://localhost:8080/"
    },
    "id": "yUDVsg1pEmV6",
    "outputId": "94dfa8de-89d2-44c9-b35f-e83e7a9d18ea"
   },
   "outputs": [
    {
     "name": "stdout",
     "output_type": "stream",
     "text": [
      "Качество на обучении: 0.064\n",
      "Качество на валидации: 0.050\n"
     ]
    },
    {
     "name": "stderr",
     "output_type": "stream",
     "text": [
      "/Users/AlyaMac/opt/anaconda3/lib/python3.8/site-packages/sklearn/linear_model/_ridge.py:147: LinAlgWarning: Ill-conditioned matrix (rcond=1.68509e-24): result may not be accurate.\n",
      "  return linalg.solve(A, Xy, sym_pos=True,\n"
     ]
    }
   ],
   "source": [
    "degree = 12\n",
    "X = generate_powers(data.x_train.values, N=degree)\n",
    "y = data.y_train.values\n",
    "\n",
    "X_train, X_valid, y_train, y_valid = train_test_split(X, y, test_size=0.2, random_state=RANDOM_SEED)\n",
    "model = Ridge(alpha=0).fit(X_train, y_train)\n",
    "\n",
    "y_pred = model.predict(X_valid)\n",
    "y_pred_train = model.predict(X_train)\n",
    "\n",
    "print(\"Качество на обучении: %.3f\" % mean_squared_error(y_train, y_pred_train))\n",
    "print(\"Качество на валидации: %.3f\" % mean_squared_error(y_valid, y_pred))"
   ]
  },
  {
   "cell_type": "markdown",
   "metadata": {
    "id": "_SHlYA78EmpI"
   },
   "source": [
    "Как изменилась ошибка на обучении? Было $0.072$, стало $0.064$, т.е. *ошибка на обучении падает*.\n",
    "\n",
    "Как изменилась ошибка на валидации? Было $0.04$, стало $0.05$, т.е. *ошибка на валидации растёт*.\n",
    "\n",
    "Это и есть признак переобучения (вспоминаем графики) - ошибка на валидации растёт, а на обучении падает, степень полинома $n=12$ хуже, чем степень полинома $n=8$, модель переобучилась."
   ]
  },
  {
   "cell_type": "markdown",
   "metadata": {
    "id": "gL8P97gULBR9"
   },
   "source": [
    "#### Самостоятельная работа\n",
    "\n",
    "У класса *Ridge* в конструкторе есть параметр регуляризации - обучите регрессию при $\\alpha=0.4$ для степени полинома 12\n",
    "\n",
    "Как изменилась ошибка на обучении? Как изменилась ошибка на валидации? Удалось ли победить переобучение?"
   ]
  },
  {
   "cell_type": "code",
   "execution_count": 12,
   "metadata": {
    "id": "-MUMyal8D1Mk"
   },
   "outputs": [
    {
     "name": "stdout",
     "output_type": "stream",
     "text": [
      "Качество на обучении: 0.071\n",
      "Качество на валидации: 0.046\n"
     ]
    },
    {
     "name": "stderr",
     "output_type": "stream",
     "text": [
      "/Users/AlyaMac/opt/anaconda3/lib/python3.8/site-packages/sklearn/linear_model/_ridge.py:147: LinAlgWarning: Ill-conditioned matrix (rcond=8.40932e-19): result may not be accurate.\n",
      "  return linalg.solve(A, Xy, sym_pos=True,\n"
     ]
    }
   ],
   "source": [
    "degree = 12\n",
    "\n",
    "X = generate_powers(data.x_train.values, N=degree)\n",
    "y = data.y_train.values\n",
    "\n",
    "X_train, X_valid, y_train, y_valid = train_test_split(X, y, test_size=0.2, random_state=RANDOM_SEED)\n",
    "model = Ridge(alpha=0.4).fit(X_train, y_train)\n",
    "\n",
    "y_pred = model.predict(X_valid)\n",
    "y_pred_train = model.predict(X_train)\n",
    "\n",
    "print(\"Качество на обучении: %.3f\" % mean_squared_error(y_train, y_pred_train))\n",
    "print(\"Качество на валидации: %.3f\" % mean_squared_error(y_valid, y_pred))\n",
    "\n",
    "\n",
    "# ------------------"
   ]
  },
  {
   "cell_type": "markdown",
   "metadata": {},
   "source": [
    "Как изменилась ошибка на обучении? Было $0.064$, стало $0.071$, т.е. *ошибка на обучении растет*.\n",
    "\n",
    "Как изменилась ошибка на валидации? Было $0.050$, стало $0.046$, т.е. *ошибка на валидации немного падает*.\n",
    "\n",
    "Получается, переобучения больше нет!"
   ]
  },
  {
   "cell_type": "markdown",
   "metadata": {
    "id": "EfJ6ukUIM1cM"
   },
   "source": [
    "Переобучение - это плохо. Мы начинаем слишком сильно подгоняться под обучающую выборку и плохо \"готовы\" к новым данным. Детектировать можно с помощью валидационной выборки. Победить переобучение можно с помощью регуляризации в библиотечном классе Ridge"
   ]
  },
  {
   "cell_type": "markdown",
   "metadata": {
    "id": "Zf5khfKRCG_5"
   },
   "source": [
    "$$\n",
    "\\|w\\|^2_2 = \\left(|w_0|+|w_1| + \\ldots+|w_n|\\right)^2\n",
    "$$\n",
    "\n",
    "$$\n",
    "\\|w\\|^2_2 = w_0^2+w_1^2 + \\ldots+w_n^2\n",
    "$$\n",
    "\n",
    "\n",
    "$$\n",
    "\\|w\\|^2_2 = \\sqrt{w_0^2+w_1^2 + \\ldots+w_n^2}\n",
    "$$\n"
   ]
  },
  {
   "cell_type": "markdown",
   "metadata": {
    "id": "ty4wXHpfNWZ5"
   },
   "source": [
    "### Самостоятельная работа: Lasso vs Ridge\n",
    "\n",
    "В стандартной библиотеке есть ещё интересный класс [sklearn.linear_model.Lasso](https://scikit-learn.org/stable/modules/generated/sklearn.linear_model.Lasso.html#sklearn.linear_model.Lasso)\n",
    "\n",
    "$$\n",
    "\\|Y - Xw\\|^2_2 + \\alpha \\cdot \\|w\\|_1\n",
    "$$\n",
    "\n",
    "Норма весов рассчитывается по формуле\n",
    "\n",
    "$$\n",
    "\\|w\\|_1 = |w_0|+|w_1| + \\ldots+|w_n|\n",
    "$$\n",
    "\n",
    "Для вычисления этой метрики используем [функцию norm из numpy](https://docs.scipy.org/doc/numpy-1.15.0/reference/generated/numpy.linalg.norm.html)\n",
    "\n",
    "На данных из файла `data/non_linear.csv`\n",
    "* сгенерируйте данные для степени `degree = 8`\n",
    "* обучите модель `sklearn.linear_model.Lasso` и модель `sklearn.linear_model.Ridge` на полученных данных\n",
    "* используйте коэффициент регуляризации $\\alpha=0.8$ для обеих моделей\n",
    "* постройте два столбчатых графика, на которых отобразите величину коэффициентов в для Ridge регрессии и Lasso регрессии виде столбиков"
   ]
  },
  {
   "cell_type": "code",
   "execution_count": 52,
   "metadata": {},
   "outputs": [],
   "source": [
    "from numpy.linalg import norm"
   ]
  },
  {
   "cell_type": "code",
   "execution_count": 211,
   "metadata": {
    "id": "iSPj9bRwFc9i"
   },
   "outputs": [
    {
     "name": "stdout",
     "output_type": "stream",
     "text": [
      "Качество на обучении: 0.077\n",
      "Качество на валидации: 0.042\n",
      "Норма весов: 0.711\n"
     ]
    }
   ],
   "source": [
    "# -- ВАШ КОД ТУТ ---\n",
    "degree = 8\n",
    "\n",
    "X = generate_powers(data.x_train.values, N=degree)\n",
    "y = data.y_train.values\n",
    "\n",
    "X_train, X_valid, y_train, y_valid = train_test_split(X, y, test_size=0.2, random_state=RANDOM_SEED)\n",
    "model_Ridge = Ridge(alpha=0.8).fit(X_train, y_train)\n",
    "\n",
    "y_pred = model_Ridge.predict(X_valid)\n",
    "y_pred_train = model_Ridge.predict(X_train)\n",
    "\n",
    "print(\"Качество на обучении: %.3f\" % mean_squared_error(y_train, y_pred_train))\n",
    "print(\"Качество на валидации: %.3f\" % mean_squared_error(y_valid, y_pred))\n",
    "print(\"Норма весов: %.3f\" % norm(model_Ridge.coef_))\n",
    "\n",
    "\n",
    "\n",
    "# -------------------"
   ]
  },
  {
   "cell_type": "code",
   "execution_count": 222,
   "metadata": {},
   "outputs": [
    {
     "data": {
      "image/png": "[encoded data removed]",
      "text/plain": [
       "<Figure size 720x576 with 1 Axes>"
      ]
     },
     "metadata": {
      "needs_background": "light"
     },
     "output_type": "display_data"
    }
   ],
   "source": [
    "fig, ax = plt.subplots(figsize=(10,8))\n",
    "\n",
    "ax.hist(y_pred_train, bins=8, linewidth=0.5, edgecolor=\"white\")\n",
    "ax.hist(y_pred, bins=8, linewidth=0.5, edgecolor=\"white\")\n",
    "\n",
    "ax.set(xlim=(0, 2.5), xticks=np.arange(1, 2.5),\n",
    "       ylim=(0, 15), yticks=np.linspace(0, 16, 9))\n",
    "\n",
    "plt.show()"
   ]
  },
  {
   "cell_type": "code",
   "execution_count": 223,
   "metadata": {},
   "outputs": [
    {
     "name": "stdout",
     "output_type": "stream",
     "text": [
      "Качество на обучении: 0.143\n",
      "Качество на валидации: 0.081\n",
      "Норма весов: 0.011\n"
     ]
    }
   ],
   "source": [
    "# -- ВАШ КОД ТУТ ---\n",
    "degree = 8\n",
    "\n",
    "X = generate_powers(data.x_train.values, N=degree)\n",
    "y = data.y_train.values\n",
    "\n",
    "X_train, X_valid, y_train, y_valid = train_test_split(X, y, test_size=0.2, random_state=RANDOM_SEED)\n",
    "model = Lasso(alpha=0.8, max_iter=500000).fit(X_train, y_train) # Пришлось сильно увеличить кол-во итераций, т.к. \"Objective did not converge. You might want to increase the number of iterations\".\n",
    "\n",
    "y_pred = model.predict(X_valid)\n",
    "y_pred_train = model.predict(X_train)\n",
    "\n",
    "print(\"Качество на обучении: %.3f\" % mean_squared_error(y_train, y_pred_train))\n",
    "print(\"Качество на валидации: %.3f\" % mean_squared_error(y_valid, y_pred))\n",
    "print(\"Норма весов: %.3f\" % norm(model.coef_))\n"
   ]
  },
  {
   "cell_type": "code",
   "execution_count": 225,
   "metadata": {},
   "outputs": [
    {
     "data": {
      "image/png": "[encoded data removed]",
      "text/plain": [
       "<Figure size 720x576 with 1 Axes>"
      ]
     },
     "metadata": {
      "needs_background": "light"
     },
     "output_type": "display_data"
    }
   ],
   "source": [
    "fig, ax = plt.subplots(figsize=(10,8))\n",
    "\n",
    "ax.hist(y_pred_train, bins=8, linewidth=0.5, edgecolor=\"white\")\n",
    "ax.hist(y_pred, bins=8, linewidth=0.5, edgecolor=\"white\")\n",
    "\n",
    "ax.set(xlim=(0, 2), xticks=np.arange(1, 2),\n",
    "       ylim=(0, 15), yticks=np.linspace(0, 16, 9))\n",
    "\n",
    "plt.show()"
   ]
  },
  {
   "cell_type": "markdown",
   "metadata": {
    "id": "mUrx5OA9expp"
   },
   "source": [
    "Мы использовали реализацию Ridge регрессию из библиотеки sklearn. Для того, чтобы  прокачать навыки программирования и освежить в памяти, как перемножать матрицы в numpy, напишите код для вычисления коэффициентов полиномиальной регрессии (для степени *degree=8*) с регуляризацией по формуле\n",
    "$$\n",
    "\\overline{w} = \\left(X^TX + \\lambda E\\right)^{-1}X^T\\overline{y}\n",
    "$$\n",
    "\n",
    "Сравните расхождение `model.intercept_ + model.coef_` с вашими коэффициентами\n",
    "\n",
    "Не забудьте добавить столбец из единиц к маатрице фичей! "
   ]
  },
  {
   "cell_type": "code",
   "execution_count": 278,
   "metadata": {
    "id": "WajhP9XZex3b"
   },
   "outputs": [
    {
     "name": "stdout",
     "output_type": "stream",
     "text": [
      "1.151765060922965\n",
      "[ 0.51506     0.37242574 -0.0016441  -0.29166915  0.12530464 -0.0195877\n",
      "  0.00107567]\n"
     ]
    }
   ],
   "source": [
    "# -- ВАШ КОД ТУТ ---\n",
    "print(model_Ridge.intercept_)\n",
    "print(model_Ridge.coef_)\n",
    "# -------------------"
   ]
  },
  {
   "cell_type": "code",
   "execution_count": 227,
   "metadata": {},
   "outputs": [
    {
     "name": "stdout",
     "output_type": "stream",
     "text": [
      "(50, 50) <class 'numpy.ndarray'>\n"
     ]
    }
   ],
   "source": [
    "from numpy.linalg import inv\n",
    "\n",
    "#-------- ВАШ КОД ТУТ -------------------\n",
    "num_examlpes = data.shape[0]\n",
    "num_features = data.shape[0] - 1  # вычитаем единичку т.к. убрали столбец y\n",
    "X = np.zeros((num_examlpes, num_features + 1))  # размерность увеличилась на дефолтный столбец\n",
    "\n",
    "y = data.y_train # target (целевая переменная)\n",
    "X_df = data.drop('y_train', axis=1) # удаляем столбец y_train\n",
    "print(X.shape, type(X))"
   ]
  },
  {
   "cell_type": "code",
   "execution_count": 171,
   "metadata": {},
   "outputs": [
    {
     "data": {
      "text/plain": [
       "numpy.ndarray"
      ]
     },
     "execution_count": 171,
     "metadata": {},
     "output_type": "execute_result"
    }
   ],
   "source": [
    "type(y.values.reshape(-1,1))"
   ]
  },
  {
   "cell_type": "code",
   "execution_count": 281,
   "metadata": {},
   "outputs": [
    {
     "name": "stdout",
     "output_type": "stream",
     "text": [
      "Аналитически определённые коэффициенты [[ 1.49947621]\n",
      " [ 0.49596522]\n",
      " [-0.1522574 ]\n",
      " [-0.35215038]\n",
      " [ 0.17152076]\n",
      " [-0.02831512]\n",
      " [ 0.00160998]]\n"
     ]
    }
   ],
   "source": [
    "X_T_X = X_train.T.dot(X_train)\n",
    "lambda_E = 0.8 * np.identity(X_train.shape[1]) # lambda = alpha\n",
    "summa_X_T_X_and_lambda_E = X_T_X + lambda_E\n",
    "inv_summa_X_T_X_and_lambda_E = inv(summa_X_T_X_and_lambda_E)\n",
    "inv_summa_X_T_X_and_lambda_E_dot_X_T = inv_summa_X_T_X_and_lambda_E.dot(X_train.T)\n",
    "w_analytic = inv_summa_X_T_X_and_lambda_E_dot_X_T.dot(y_train.reshape(-1,1))\n",
    "print(f'Аналитически определённые коэффициенты {w_analytic}')"
   ]
  },
  {
   "cell_type": "markdown",
   "metadata": {
    "id": "Hk02JgZBN5to"
   },
   "source": [
    "# Переобучение на валидационной выборке\n",
    "\n",
    "Посмотрим в динамике"
   ]
  },
  {
   "cell_type": "code",
   "execution_count": 282,
   "metadata": {
    "colab": {
     "base_uri": "https://localhost:8080/",
     "height": 1000
    },
    "id": "8hvWYMBtUdWk",
    "outputId": "d883edf1-4f8b-4e99-9dfa-a3e3ee4fc061"
   },
   "outputs": [
    {
     "name": "stderr",
     "output_type": "stream",
     "text": [
      "2022-02-07 10:24:32,654 : INFO : N=3\t valid err 0.245\t train err 0.314\t||w|| = 0.47\n"
     ]
    },
    {
     "data": {
      "image/png": "[encoded data removed]",
      "text/plain": [
       "<Figure size 432x288 with 1 Axes>"
      ]
     },
     "metadata": {
      "needs_background": "light"
     },
     "output_type": "display_data"
    },
    {
     "name": "stderr",
     "output_type": "stream",
     "text": [
      "2022-02-07 10:24:32,926 : INFO : N=5\t valid err 0.063\t train err 0.069\t||w|| = 3.23\n"
     ]
    },
    {
     "data": {
      "image/png": "[encoded data removed]",
      "text/plain": [
       "<Figure size 432x288 with 1 Axes>"
      ]
     },
     "metadata": {
      "needs_background": "light"
     },
     "output_type": "display_data"
    },
    {
     "name": "stderr",
     "output_type": "stream",
     "text": [
      "2022-02-07 10:24:33,134 : INFO : N=7\t valid err 0.067\t train err 0.066\t||w|| = 3.54\n"
     ]
    },
    {
     "data": {
      "image/png": "[encoded data removed]",
      "text/plain": [
       "<Figure size 432x288 with 1 Axes>"
      ]
     },
     "metadata": {
      "needs_background": "light"
     },
     "output_type": "display_data"
    },
    {
     "name": "stderr",
     "output_type": "stream",
     "text": [
      "2022-02-07 10:24:33,567 : INFO : N=10\t valid err 0.123\t train err 0.052\t||w|| = 93.44\n"
     ]
    },
    {
     "data": {
      "image/png": "[encoded data removed]",
      "text/plain": [
       "<Figure size 432x288 with 1 Axes>"
      ]
     },
     "metadata": {
      "needs_background": "light"
     },
     "output_type": "display_data"
    }
   ],
   "source": [
    "from sklearn.linear_model import LinearRegression\n",
    "from numpy.linalg import norm\n",
    "from sklearn.metrics import mean_squared_error\n",
    "from sklearn.model_selection import train_test_split\n",
    "\n",
    "def fit_regression(x_train, x_valid, y_train, y_valid):\n",
    "    model = LinearRegression().fit(x_train, y_train)\n",
    "    # ошибки на обучении и валидации\n",
    "    y_pred = model.predict(x_valid)\n",
    "    y_pred_train = model.predict(x_train)\n",
    "    # для графиков\n",
    "    error_valid = mean_squared_error(y_valid, y_pred)\n",
    "    error_train = mean_squared_error(y_train, y_pred_train)\n",
    "    w_norm = norm(model.coef_)\n",
    "\n",
    "    return error_valid, error_train, w_norm, model\n",
    "\n",
    "def train_polynomial(degrees, data):\n",
    "    \"\"\"Генерим данные, тренируем модель  \n",
    "    дополнительно рисуем график\n",
    "    \"\"\"\n",
    "    x_linspace = np.linspace(data['x_train'].min(), data['x_train'].max(), num=100)\n",
    "    y = data.y_train.values\n",
    "\n",
    "    degrees, valid_errors, train_errors, w_norm = [], [], [], []\n",
    "    for degree in (3, 5, 7, 10):\n",
    "        # генерим фичи\n",
    "        X = generate_powers(data.x_train.values, N=degree)\n",
    "        # обучение и контроль зависят от степени полинома, т.к. меняется размерность\n",
    "        X_train, X_valid, y_train, y_valid = (\n",
    "            train_test_split(\n",
    "                X, y,\n",
    "                test_size=0.2, random_state=10\n",
    "            )\n",
    "        )\n",
    "        order_test = np.argsort(X_valid[:,0])\n",
    "        # ошибка на тренировочном сете\n",
    "        error_valid, error_train, coef_norm, model = fit_regression(X_train, X_valid, y_train, y_valid)\n",
    "        logger.info(\n",
    "            \"N=%d\\t valid err %.3f\\t train err %.3f\\t||w|| = %.2f\",\n",
    "            degree, error_valid, error_train, norm(model.coef_)\n",
    "        )\n",
    "        plt.scatter(X_valid[:,0][order_test], y_valid[order_test], 40, 'r', 'o', alpha=0.8)\n",
    "        # визуализируем решение\n",
    "        y_linspace = model.predict(generate_powers(x_linspace, N=degree))\n",
    "        plt.plot(x_linspace, y_linspace)\n",
    "        plt.show()\n",
    "        valid_errors.append(error_valid)\n",
    "        train_errors.append(error_train)\n",
    "        w_norm.append(coef_norm)\n",
    "    return valid_errors, train_errors, w_norm\n",
    "\n",
    "DEGREES = (3, 5, 7, 10)\n",
    "valid_errors, train_errors, w_norm = train_polynomial(\n",
    "    degrees=DEGREES, data=data\n",
    ")"
   ]
  },
  {
   "cell_type": "markdown",
   "metadata": {
    "id": "tpts_ZKXOXlz"
   },
   "source": [
    "В этом абстрактном эксперименте: видны следующие закономерности\n",
    "\n",
    "* степень полинома растёт $\\rightarrow$ ошибка на тренировочных данных падает\n",
    "* степень полинома растёт $\\rightarrow$ ошибка на валидации растёт\n",
    "* степень полинома растёт $\\rightarrow$ сумма квадратов коэффициентов регрессии растёт\n",
    "\n",
    "Т.е. можно детектировать переобучение, если проверять такую прокси-метрику как \"норма весов регрессии\"\n",
    "* по оси $oX$ - степень полинома\n",
    "* по оси $oY$ - ошибка на валидации и ошибка на обучении"
   ]
  },
  {
   "cell_type": "code",
   "execution_count": 283,
   "metadata": {
    "colab": {
     "base_uri": "https://localhost:8080/",
     "height": 265
    },
    "id": "teB-1qn9VFOj",
    "outputId": "8a03e858-0323-414d-ea96-574ae43b8b6a"
   },
   "outputs": [
    {
     "data": {
      "image/png": "[encoded data removed]",
      "text/plain": [
       "<Figure size 432x288 with 1 Axes>"
      ]
     },
     "metadata": {
      "needs_background": "light"
     },
     "output_type": "display_data"
    }
   ],
   "source": [
    "from matplotlib import pyplot\n",
    "%matplotlib inline\n",
    "\n",
    "fig, ax = plt.subplots()\n",
    "ax.plot(DEGREES, valid_errors, 'k--', label='Validation error')\n",
    "ax.plot(DEGREES, train_errors, 'k:', label='Train error')\n",
    "\n",
    "legend = ax.legend(loc='upper center', shadow=True, fontsize='x-large')\n",
    "\n",
    "\n",
    "plt.show()"
   ]
  },
  {
   "cell_type": "code",
   "execution_count": null,
   "metadata": {
    "colab": {
     "base_uri": "https://localhost:8080/",
     "height": 265
    },
    "id": "t_Vaez22Gp6Z",
    "outputId": "fca11ec0-e1a3-4132-bee0-c389373769d3"
   },
   "outputs": [
    {
     "data": {
      "image/png": "[encoded data removed]",
      "text/plain": [
       "<Figure size 432x288 with 1 Axes>"
      ]
     },
     "metadata": {
      "needs_background": "light"
     },
     "output_type": "display_data"
    }
   ],
   "source": [
    "plt.scatter(DEGREES, w_norm)\n",
    "plt.show()"
   ]
  },
  {
   "cell_type": "markdown",
   "metadata": {
    "id": "lKsC3DTIiNSC"
   },
   "source": [
    "Самостоятельное задание: подберите наилучший alpha с помощью [cross_val_score](https://scikit-learn.org/stable/modules/cross_validation.html#computing-cross-validated-metrics)"
   ]
  },
  {
   "cell_type": "code",
   "execution_count": 286,
   "metadata": {
    "id": "TvREmBqZiYcU"
   },
   "outputs": [
    {
     "data": {
      "text/plain": [
       "array([0.87213048, 0.8540774 , 0.56432042, 0.8865732 , 0.86814808])"
      ]
     },
     "execution_count": 286,
     "metadata": {},
     "output_type": "execute_result"
    }
   ],
   "source": [
    "# -- ВАШ КОД ТУТ ---\n",
    "\n",
    "from sklearn.model_selection import cross_val_score\n",
    "\n",
    "model =  LinearRegression()\n",
    "cross_val_score(model, X_train, y_train)\n",
    "\n",
    "# ------------------"
   ]
  },
  {
   "cell_type": "code",
   "execution_count": null,
   "metadata": {
    "id": "SWEm9HzXibsT"
   },
   "outputs": [],
   "source": []
  }
 ],
 "metadata": {
  "colab": {
   "name": "Part_III:validation_generalization_ability_overfitting.ipynb",
   "provenance": []
  },
  "kernelspec": {
   "display_name": "Python 3",
   "language": "python",
   "name": "python3"
  },
  "language_info": {
   "codemirror_mode": {
    "name": "ipython",
    "version": 3
   },
   "file_extension": ".py",
   "mimetype": "text/x-python",
   "name": "python",
   "nbconvert_exporter": "python",
   "pygments_lexer": "ipython3",
   "version": "3.8.8"
  }
 },
 "nbformat": 4,
 "nbformat_minor": 1
}
